{
 "cells": [
  {
   "cell_type": "code",
   "execution_count": 2,
   "outputs": [],
   "source": [
    "# Basic ReadMe\n",
    "# for Computer Vision final project!\n",
    "#\n",
    "# For that project, several pictures being converted and rotated,\n",
    "# All steps include morpological operations from cv2,\n",
    "# such as delation, erosion, edges and others.\n",
    "#\n",
    "# Numpy was using for kernels,\n",
    "# to improve there work\n",
    "#\n",
    "# After you run program,\n",
    "# a picture of hand should appear.\n",
    "# It's important to chose sector !!!\n",
    "# WITH 4 FINGERS WE NEED\n",
    "# Put a square with mouse,\n",
    "# Press \"Enter\"\n",
    "#\n",
    "# Then Several Outputs should be presented!\n",
    "#\n",
    "# During the lines of code,\n",
    "# More explanation,\n",
    "# Will be present!\n",
    "#\n",
    "# DataSpell Python 3.10\n",
    "# After Program present\n",
    "# All output\n",
    "# Press Enter and it finished!\n",
    "#\n",
    "# !@1 Project by Artur Bruev\n",
    "#\n",
    "# (basic review was sending a team,\n",
    "# to improve there work and understand better a question)\n",
    "#\n",
    "#\n",
    "# settings for 001_norm.jpg\n",
    "# th1 = 100, th2 = 180\n",
    "#\n",
    "# settings for 001_norm_rotated.jpg\n",
    "# th1 = 100, th2 = 180\n",
    "#\n",
    "# settings for 002_norm.jpg\n",
    "# th1 = 50, th2 = 180\n",
    "#\n",
    "# settings for 002_norm_rotated.jpg\n",
    "# th1 = 50, th2 = 180\n",
    "#\n",
    "#\n",
    "#\n",
    "# Here starts realization!"
   ],
   "metadata": {
    "collapsed": false,
    "pycharm": {
     "name": "#%%\n"
    }
   }
  },
  {
   "cell_type": "code",
   "execution_count": 3,
   "outputs": [],
   "source": [
    "import cv2\n",
    "import numpy as np"
   ],
   "metadata": {
    "collapsed": false,
    "pycharm": {
     "name": "#%%\n"
    }
   }
  },
  {
   "cell_type": "code",
   "execution_count": 4,
   "outputs": [],
   "source": [
    "path = \"002_norm_rotated.jpg\""
   ],
   "metadata": {
    "collapsed": false,
    "pycharm": {
     "name": "#%%\n"
    }
   }
  },
  {
   "cell_type": "code",
   "execution_count": 5,
   "outputs": [],
   "source": [
    "# Settings of gradient intensivity to find hand lines\n",
    "# different pictures should consider different settings\n",
    "# it's much better to use correct 'rotate' pictures\n",
    "\n",
    "th1 = 50\n",
    "th2 = 180\n",
    "\n",
    "# We can raise th2,\n",
    "# until all unimportant white objects,\n",
    "# will disappear."
   ],
   "metadata": {
    "collapsed": false,
    "pycharm": {
     "name": "#%%\n"
    }
   }
  },
  {
   "cell_type": "code",
   "execution_count": 6,
   "outputs": [],
   "source": [
    "# read image and finding future shape for drawing\n",
    "\n",
    "colored = cv2.imread(path)\n",
    "shape_init = colored.shape"
   ],
   "metadata": {
    "collapsed": false,
    "pycharm": {
     "name": "#%%\n"
    }
   }
  },
  {
   "cell_type": "code",
   "execution_count": 7,
   "outputs": [],
   "source": [
    "# resize, hand should be on same position always\n",
    "# using same size pictures to better identification\n",
    "\n",
    "colored = cv2.resize(colored, (1000, 1000))"
   ],
   "metadata": {
    "collapsed": false,
    "pycharm": {
     "name": "#%%\n"
    }
   }
  },
  {
   "cell_type": "code",
   "execution_count": 8,
   "outputs": [],
   "source": [
    "# identify region\n",
    "\n",
    "roi = cv2.selectROI(\"Select reg\", colored)\n",
    "\n",
    "# read same image in GrayScale, for future operations\n",
    "\n",
    "initial_image = cv2.imread(path, cv2.IMREAD_GRAYSCALE)\n",
    "initial_image = cv2.resize(initial_image, (1000, 1000))"
   ],
   "metadata": {
    "collapsed": false,
    "pycharm": {
     "name": "#%%\n"
    }
   }
  },
  {
   "cell_type": "code",
   "execution_count": 9,
   "outputs": [],
   "source": [
    "# kernel for operation\n",
    "\n",
    "kernel1 = np.array([[1, 1, 1, 1, 1, 1, 1],\n",
    "                    [1, 1, 1, 1, 1, 1, 1],\n",
    "                    [1, 1, 1, 1, 1, 1, 1],\n",
    "                    [1, 1, 1, -50, 1, 1, 1],\n",
    "                    [1, 1, 1, 1, 1, 1, 1],\n",
    "                    [1, 1, 1, 1, 1, 1, 1],\n",
    "                    [1, 1, 1, 1, 1, 1, 1]])\n",
    "\n",
    "# kernel for dilation\n",
    "\n",
    "kernel3 = np.array([[0, 0, 0, 1, 0, 0, 0],\n",
    "                    [0, 0, 0, 1, 0, 0, 0],\n",
    "                    [0, 0, 0, 1, 0, 0, 0],\n",
    "                    [0, 0, 0, 1, 0, 0, 0],\n",
    "                    [0, 0, 0, 1, 0, 0, 0],\n",
    "                    [0, 0, 0, 1, 0, 0, 0],\n",
    "                    [0, 0, 0, 1, 0, 0, 0]], np.uint8)\n",
    "\n",
    "# kernel for erosion\n",
    "kernel4 = np.array([[0, 0, 0, 0, 0, 0, 0],\n",
    "                    [0, 0, 0, 0, 0, 0, 0],\n",
    "                    [0, 0, 0, 0, 0, 0, 0],\n",
    "                    [0, 1, 1, 1, 1, 1, 0],\n",
    "                    [0, 0, 0, 0, 0, 0, 0],\n",
    "                    [0, 0, 0, 0, 0, 0, 0],\n",
    "                    [0, 0, 0, 0, 0, 0, 0]], np.uint8)\n",
    "\n",
    "# kernel for morphological operations, in elipse\n",
    "kernel5 = cv2.getStructuringElement(cv2.MORPH_ELLIPSE, (17, 17))"
   ],
   "metadata": {
    "collapsed": false,
    "pycharm": {
     "name": "#%%\n"
    }
   }
  },
  {
   "cell_type": "code",
   "execution_count": 10,
   "outputs": [],
   "source": [
    "# realise operations and finding edges\n",
    "\n",
    "identity1 = cv2.filter2D(initial_image, ddepth=-1, kernel=kernel1)\n",
    "edges = cv2.Canny(image=initial_image, threshold1=th1, threshold2=th2)\n",
    "erosion = cv2.erode(edges, kernel4, iterations=1)\n",
    "\n",
    "dilation1 = cv2.dilate(erosion, kernel3, iterations=2)\n",
    "dilation2 = cv2.dilate(dilation1, kernel5, iterations=2)"
   ],
   "metadata": {
    "collapsed": false,
    "pycharm": {
     "name": "#%%\n"
    }
   }
  },
  {
   "cell_type": "code",
   "execution_count": 11,
   "outputs": [],
   "source": [
    "# finding contours\n",
    "\n",
    "contours, hierarchy = cv2.findContours(dilation2, cv2.RETR_TREE, cv2.CHAIN_APPROX_SIMPLE)"
   ],
   "metadata": {
    "collapsed": false,
    "pycharm": {
     "name": "#%%\n"
    }
   }
  },
  {
   "cell_type": "code",
   "execution_count": 12,
   "outputs": [],
   "source": [
    "# create empty mask, to save sort shapes\n",
    "\n",
    "mask = np.ones(edges.shape[:2], dtype=\"uint8\") * 0"
   ],
   "metadata": {
    "collapsed": false,
    "pycharm": {
     "name": "#%%\n"
    }
   }
  },
  {
   "cell_type": "code",
   "execution_count": 13,
   "outputs": [],
   "source": [
    "for c in contours:                          # for every corner\n",
    "    area = cv2.contourArea(c)               # if S of object is in zone\n",
    "    if 1000 < area < 10000:                 # supposed on change of this parameter,\n",
    "        hull = cv2.convexHull(c)            # output will be more or less usefull for operation\n",
    "    rect = cv2.minAreaRect(hull)\n",
    "    box = cv2.boxPoints(rect)\n",
    "    box = np.int0(box)\n",
    "    M = cv2.moments(box)\n",
    "    cx = int(M['m10'] / M['m00'])\n",
    "    cy = int(M['m01'] / M['m00'])\n",
    "    if int(roi[0]) < cx < int(roi[0] + roi[2]) and int(roi[1]) < cy < int(roi[1] + roi[3]):        # if center of box in region\n",
    "        cv2.drawContours(mask, [hull], -1, 255, -1)                                                # put box on mask\n",
    "        cv2.drawContours(colored, [box], -1, (0, 0, 255), 1)                                       # on color picture draw box around white zones\n",
    "        colored = cv2.circle(colored, (cx, cy), 5, (0, 0, 255), -1)                                # finding center of box and centralise it\n",
    "\n",
    "colored = cv2.resize(colored, (shape_init[1], shape_init[0]))                                      # change size of picture to back"
   ],
   "metadata": {
    "collapsed": false,
    "pycharm": {
     "name": "#%%\n"
    }
   }
  },
  {
   "cell_type": "code",
   "execution_count": 14,
   "outputs": [
    {
     "data": {
      "text/plain": "True"
     },
     "execution_count": 14,
     "metadata": {},
     "output_type": "execute_result"
    }
   ],
   "source": [
    "# Present all Outputs\n",
    "\n",
    "cv2.imshow('resultant mask', mask)\n",
    "cv2.imshow('edges', edges)\n",
    "cv2.imshow('dilate', dilation2)\n",
    "cv2.imshow('total', colored)\n",
    "\n",
    "# cv2.imshow('erosion', erosion) # in case\n",
    "\n",
    "cv2.imwrite('res.jpg', colored)"
   ],
   "metadata": {
    "collapsed": false,
    "pycharm": {
     "name": "#%%\n"
    }
   }
  },
  {
   "cell_type": "code",
   "execution_count": 15,
   "outputs": [
    {
     "data": {
      "text/plain": "13"
     },
     "execution_count": 15,
     "metadata": {},
     "output_type": "execute_result"
    }
   ],
   "source": [
    "cv2.waitKey(0)"
   ],
   "metadata": {
    "collapsed": false,
    "pycharm": {
     "name": "#%%\n"
    }
   }
  },
  {
   "cell_type": "code",
   "execution_count": 16,
   "outputs": [],
   "source": [
    "# Enter to quit // Output presentation finished\n",
    "quit(0)"
   ],
   "metadata": {
    "collapsed": false,
    "pycharm": {
     "name": "#%%\n"
    }
   }
  }
 ],
 "metadata": {
  "kernelspec": {
   "display_name": "Python 3",
   "language": "python",
   "name": "python3"
  },
  "language_info": {
   "codemirror_mode": {
    "name": "ipython",
    "version": 2
   },
   "file_extension": ".py",
   "mimetype": "text/x-python",
   "name": "python",
   "nbconvert_exporter": "python",
   "pygments_lexer": "ipython2",
   "version": "2.7.6"
  }
 },
 "nbformat": 4,
 "nbformat_minor": 0
}